{
 "cells": [
  {
   "cell_type": "markdown",
   "metadata": {},
   "source": [
    "[CFFI(C Foreign Function Interface)](https://cffi.readthedocs.io/en/latest/index.html) 是Python的C语言外部函数接口。通过CFFI，Python可以与几乎任何C语言代码进行交互，使用起来也比较方便。\n",
    "本文主要内容有：\n",
    "+ CFFI数组的基本使用\n",
    "+ CFFI数组和Numpy ndarry相互转换\n",
    "\n",
    "**测试环境**：Python3.7.4（x64） + CFFI 1.3.1 + VS2019\n",
    "\n",
    "# 安装CFFI\n",
    "运行`pip install cffi`即可。\n",
    "测试:"
   ]
  },
  {
   "cell_type": "code",
   "execution_count": 154,
   "metadata": {},
   "outputs": [
    {
     "name": "stdout",
     "output_type": "stream",
     "text": [
      "1.13.1\n"
     ]
    }
   ],
   "source": [
    "import cffi\n",
    "\n",
    "print(cffi.__version__)"
   ]
  },
  {
   "cell_type": "markdown",
   "metadata": {},
   "source": [
    "# CFFI数组基本使用\n",
    "\n",
    "首先导入库文件并实例化FFI"
   ]
  },
  {
   "cell_type": "code",
   "execution_count": 155,
   "metadata": {},
   "outputs": [],
   "source": [
    "import numpy as np\n",
    "from cffi import FFI\n",
    "ffi = FFI()"
   ]
  },
  {
   "cell_type": "markdown",
   "metadata": {},
   "source": [
    "## CFFI数组使用\n",
    "\n",
    "**ffi.new**\n",
    "`ffi.new(cdecl, init=None)`根据指定的C语言类型创建实例并返回指针，如果C语言类型是数组，则返回它的引用。具体介绍见[ffi.new](https://cffi.readthedocs.io/en/latest/ref.html#ffi-new)。\n",
    "例如："
   ]
  },
  {
   "cell_type": "code",
   "execution_count": 156,
   "metadata": {},
   "outputs": [
    {
     "name": "stdout",
     "output_type": "stream",
     "text": [
      "10 <cdata 'int[]' owning 40 bytes> <class '_cffi_backend.CDataOwn'>\n"
     ]
    }
   ],
   "source": [
    "a = ffi.new(\"int[]\", 10)\n",
    "print(len(a), a, type(a))"
   ]
  },
  {
   "cell_type": "markdown",
   "metadata": {},
   "source": [
    "对于返回的`<cdata>`指针，可以直接通过下标对其读取和赋值，也可以进行切片操作。使用切片时，注意**不能省略开始和结束位置，不能使用负索引，不能使用步长**。"
   ]
  },
  {
   "cell_type": "code",
   "execution_count": 157,
   "metadata": {},
   "outputs": [
    {
     "name": "stdout",
     "output_type": "stream",
     "text": [
      "11 55 0 0 0 0 0 0 0 0 "
     ]
    }
   ],
   "source": [
    "# 通过下标读取赋值\n",
    "a[0] = 11\n",
    "a[1] = 55\n",
    "for i in range(len(a)):\n",
    "    print(a[i], end=' ')"
   ]
  },
  {
   "cell_type": "markdown",
   "metadata": {},
   "source": [
    "为了简便，后续<cdata>数组打印，直接将其转换为list。\n",
    "    \n",
    "**切片**\n",
    "`<cdata>`数组的切片是对原数组的引用，它们共用相同的内存，对新切片进行赋值操作会影响原数组，这和Python的list切片操作有很大的不同。"
   ]
  },
  {
   "cell_type": "code",
   "execution_count": 158,
   "metadata": {},
   "outputs": [
    {
     "name": "stdout",
     "output_type": "stream",
     "text": [
      "[0, 0, 0, 11, 22, 0, 0, 0, 0, 0]\n",
      "<cdata 'int[]' sliced length 5>\n",
      "[0, 0, 0, 11, 22, 0, 0, 1200, 0, 0] [0, 0, 1200, 0, 0]\n"
     ]
    }
   ],
   "source": [
    "# 切片赋值\n",
    "a = ffi.new(\"int[]\", 10)\n",
    "a[3:5]=[11,22] # 长度必须一致\n",
    "print(list(a))\n",
    "\n",
    "# 切片引用\n",
    "b = a[5:10]\n",
    "print(b)\n",
    "b[2] = 1200\n",
    "print(list(a), list(b))"
   ]
  },
  {
   "cell_type": "markdown",
   "metadata": {},
   "source": [
    "从上面可以看出，数组`a`的切片也是`<cdata>`类型，对`b`的赋值操作会影响`a`数组。"
   ]
  },
  {
   "cell_type": "markdown",
   "metadata": {},
   "source": [
    "**多维数组**\n",
    "多维数组最简单的定义方式是定义时直接指定数组大小，可以避免复杂的初始化。例如二维数组使用`ffi.new(\"int[2][10]\")`，三维数组使用`ffi.new(\"int[2][5][10]\")`。使用`len`获取多维数组长度时，返回的是第一维的长度，例如："
   ]
  },
  {
   "cell_type": "code",
   "execution_count": 159,
   "metadata": {},
   "outputs": [
    {
     "name": "stdout",
     "output_type": "stream",
     "text": [
      "<cdata 'int[2][5][10]' owning 400 bytes>\n",
      "2 5 10\n"
     ]
    }
   ],
   "source": [
    "b = ffi.new(\"int[2][5][10]\")\n",
    "print(b)\n",
    "print(len(b), len(b[0]), len(b[0][0]))"
   ]
  },
  {
   "cell_type": "markdown",
   "metadata": {},
   "source": [
    "多维数组同样是通过下标进行读取赋值。"
   ]
  },
  {
   "cell_type": "code",
   "execution_count": 160,
   "metadata": {},
   "outputs": [
    {
     "name": "stdout",
     "output_type": "stream",
     "text": [
      "[100, 2, 3, 0, 0, 0, 0, 0, 0, 0]\n"
     ]
    }
   ],
   "source": [
    "b[0][0][0] = 100\n",
    "b[0][0][1:3] = [2,3]\n",
    "print(list(b[0][0]))"
   ]
  },
  {
   "cell_type": "markdown",
   "metadata": {},
   "source": [
    "## CFFI数组解包\n",
    "**ffi.unpack**\n",
    "`ffi.unpack(cdata, length)`解包指定长度的C语言数组，并返回一个list。对于一维数组，`ffi.unpack`和`list()`的效果类似。从测试结果来看，当数组长度较小时，`list()`的性能好一些；数据量变大时，`ffi.unpack`就更具优势，推荐编程时使用`ffi.unpack`对数组进行解包操作。"
   ]
  },
  {
   "cell_type": "code",
   "execution_count": 161,
   "metadata": {},
   "outputs": [
    {
     "name": "stdout",
     "output_type": "stream",
     "text": [
      "[0, 100, 0, 0, 0, 0, 0, 0, 0, 0] <class 'list'>\n",
      "True\n",
      "451 ns ± 36 ns per loop (mean ± std. dev. of 7 runs, 1000000 loops each)\n",
      "265 ns ± 4.4 ns per loop (mean ± std. dev. of 7 runs, 1000000 loops each)\n",
      "54.2 µs ± 2.05 µs per loop (mean ± std. dev. of 7 runs, 10000 loops each)\n",
      "74.8 µs ± 294 ns per loop (mean ± std. dev. of 7 runs, 10000 loops each)\n"
     ]
    }
   ],
   "source": [
    "a = ffi.new(\"int[]\", 10)\n",
    "a[1] = 100\n",
    "b = ffi.unpack(a, 10)\n",
    "print(b, type(b))\n",
    "print(b == list(a))\n",
    "%timeit ffi.unpack(a, 10)\n",
    "%timeit list(a)\n",
    "\n",
    "a = ffi.new(\"int[]\", 10000)\n",
    "%timeit ffi.unpack(a, 10000)\n",
    "%timeit list(a)"
   ]
  },
  {
   "cell_type": "markdown",
   "metadata": {},
   "source": [
    "对于多维数组，例如`a = ffi.new(\"int[4][10]\")`，解包时需要指定一维数组长度，使用时注意长度不要越界。"
   ]
  },
  {
   "cell_type": "code",
   "execution_count": 162,
   "metadata": {},
   "outputs": [
    {
     "name": "stdout",
     "output_type": "stream",
     "text": [
      "[<cdata 'int[10]' 0x0000027A3AA28548>,\n",
      " <cdata 'int[10]' 0x0000027A3AA28570>,\n",
      " <cdata 'int[10]' 0x0000027A3AA28598>,\n",
      " <cdata 'int[10]' 0x0000027A3AA285C0>,\n",
      " <cdata 'int[10]' 0x0000027A3AA285E8>]\n",
      "[0, 0, 0, 0, 0, 0, 0, 0, 0, 1000]\n",
      "[0, 0, 0, 0, 0, 0, 0, 0, 0, 1000]\n"
     ]
    }
   ],
   "source": [
    "from pprint import pprint\n",
    "\n",
    "a = ffi.new(\"int[4][10]\")\n",
    "a[3][9] = 1000\n",
    "\n",
    "b = ffi.unpack(a,5)\n",
    "pprint(b)\n",
    "\n",
    "# 解包a[3]\n",
    "b3 =  ffi.unpack(b[3],10)\n",
    "pprint(b3)\n",
    "\n",
    "# 或者直接解包a[3]\n",
    "b3 =  ffi.unpack(a[3],10)\n",
    "pprint(b3)"
   ]
  },
  {
   "cell_type": "markdown",
   "metadata": {},
   "source": [
    "可以看到，`ffi.unpack`操作返回一个list，其元素是<cdata>数组。多维数组的解包不是很直观，使用也不多，实际使用时，可以将其转换为Numpy ndarry。"
   ]
  },
  {
   "cell_type": "markdown",
   "metadata": {},
   "source": [
    "# CFFI数组和Numpy 相互转换\n",
    "\n",
    "## ndarray转CFFI数组\n",
    "\n",
    "CFFI提供了`ffi.from_buffer([cdecl,] python_buffer, require_writable=False)`函数，可以把`python_buffer`转换为`<cdata>`数组。其中`cdecl`为`python_buffer`类型，默认为`<cdata 'char[]'>`。`require_writable`如果为`True`，则缓冲区`python_buffer`必须可写，否则函数会调用失败，具体介绍见[ffi.from_buffer](https://cffi.readthedocs.io/en/latest/ref.html#ffi-buffer-ffi-from-buffer)。\n",
    "ndarray转CFFI数组："
   ]
  },
  {
   "cell_type": "code",
   "execution_count": 163,
   "metadata": {},
   "outputs": [
    {
     "name": "stdout",
     "output_type": "stream",
     "text": [
      "<cdata 'int *' buffer from 'numpy.ndarray' object>\n",
      "[0, 1, 2, 3, 4, 5, 6, 7, 8, 9]\n",
      "[  0   1   2 300   4   5   6   7   8   9] [0, 1, 2, 300, 4, 5, 6, 7, 8, 9]\n"
     ]
    }
   ],
   "source": [
    "a = np.arange(10, dtype=np.int)\n",
    "# ndarray to cdata\n",
    "b = ffi.from_buffer(\"int*\", a)\n",
    "print(b)\n",
    "print(ffi.unpack(b, 10)) # 由于b是\"int *\"类型，不能使用list()\n",
    "\n",
    "b[3] = 300\n",
    "print(a, ffi.unpack(b, 10))"
   ]
  },
  {
   "cell_type": "markdown",
   "metadata": {},
   "source": [
    "把ndarray转换为<cdata>数组时，它们共用同一块内存，对`b`的赋值操作也会影响数组`a`。\n",
    "还可以使用`ffi.cast`函数，把ndarray转换为`<cdata>`数组，例如：\n",
    "```python\n",
    "b = ffi.cast(\"int*\", a.ctypes.data)\n",
    "```\n",
    "其效果和`ffi.from_buffer`一样。"
   ]
  },
  {
   "cell_type": "markdown",
   "metadata": {},
   "source": [
    "## CFFI数组转ndarray\n",
    "\n",
    "CFFI数组转ndarray有两步：\n",
    "1. 先用[ffi.buffer(cdata, [size])](https://cffi.readthedocs.io/en/latest/ref.html#ffi-buffer-ffi-from-buffer)把CFFI数组转换成python buffer。需要注意`size`是字节长度。\n",
    "2. 再用[numpy.frombuffer](https://docs.scipy.org/doc/numpy/reference/generated/numpy.frombuffer.html)把python buffer转换成ndarray。实际使用时，需要指定`dtype`和`count`。\n",
    "\n",
    "例如："
   ]
  },
  {
   "cell_type": "code",
   "execution_count": 164,
   "metadata": {},
   "outputs": [
    {
     "name": "stdout",
     "output_type": "stream",
     "text": [
      "[0 1 2 3 4 5 6 7 8 9]\n",
      "[  0 100   2   3   4   5   6   7   8   9] [  0 100   2   3   4   5   6   7   8   9]\n"
     ]
    }
   ],
   "source": [
    "a = np.arange(10, dtype=np.int)\n",
    "\n",
    "# ndarray to cdata\n",
    "b = ffi.from_buffer(\"int*\", a)\n",
    "\n",
    "# cdata to buffer\n",
    "c = ffi.buffer(b, 40)\n",
    "\n",
    "# buffer to ndarray\n",
    "d = np.frombuffer(c, dtype=np.int, count=10)\n",
    "print(d)\n",
    "d[1] = 100\n",
    "print(a, d)"
   ]
  },
  {
   "cell_type": "markdown",
   "metadata": {},
   "source": [
    "可以看到，`a`和`d`对应的是同一块内存。\n",
    "\n",
    "下面使用`float`型完整介绍一遍CFFI数组和ndarray的相互转换："
   ]
  },
  {
   "cell_type": "code",
   "execution_count": 165,
   "metadata": {},
   "outputs": [
    {
     "name": "stdout",
     "output_type": "stream",
     "text": [
      "[0. 1. 2. 3. 4. 5. 6. 7. 8. 9.]\n",
      "[  0. 100.   2.   3.   4.   5.   6.   7.   8.   9.] [  0. 100.   2.   3.   4.   5.   6.   7.   8.   9.]\n"
     ]
    }
   ],
   "source": [
    "a = np.arange(10, dtype=np.float32)\n",
    "\n",
    "# ndarray to cdata\n",
    "b = ffi.from_buffer(\"float*\", a)\n",
    "\n",
    "# cdata to buffer\n",
    "c = ffi.buffer(b, 40) # 10 * 4 = 40\n",
    "# buffer to ndarray\n",
    "d = np.frombuffer(c, dtype=np.float32, count=10) # 数据类型需要对应\n",
    "print(d)\n",
    "d[1] = 100.0\n",
    "print(a, d)"
   ]
  },
  {
   "cell_type": "markdown",
   "metadata": {},
   "source": [
    "\n",
    "以上就是本文的内容，后续会介绍下`cffi`、`cython`和`ctypes`性能对比。"
   ]
  }
 ],
 "metadata": {
  "kernelspec": {
   "display_name": "Python 3",
   "language": "python",
   "name": "python3"
  },
  "language_info": {
   "codemirror_mode": {
    "name": "ipython",
    "version": 3
   },
   "file_extension": ".py",
   "mimetype": "text/x-python",
   "name": "python",
   "nbconvert_exporter": "python",
   "pygments_lexer": "ipython3",
   "version": "3.7.4"
  }
 },
 "nbformat": 4,
 "nbformat_minor": 2
}
